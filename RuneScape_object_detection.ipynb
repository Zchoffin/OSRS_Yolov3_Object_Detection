{
  "nbformat": 4,
  "nbformat_minor": 0,
  "metadata": {
    "colab": {
      "name": "RuneScape_object_detection.ipynb",
      "provenance": [],
      "collapsed_sections": []
    },
    "kernelspec": {
      "name": "python3",
      "display_name": "Python 3"
    },
    "language_info": {
      "name": "python"
    }
  },
  "cells": [
    {
      "cell_type": "code",
      "execution_count": null,
      "metadata": {
        "id": "mrIVaUrAUvVy"
      },
      "outputs": [],
      "source": [
        "# Clone\n",
        "!git clone https://github.com/AlexeyAB/darknet\n",
        "\n",
        "# Configure make file for gpu usage\n",
        "%cd /content/darknet\n",
        "!sed -i 's/OPENCV=0/OPENCV=1/' Makefile\n",
        "!sed -i 's/GPU=0/GPU=1/' Makefile\n",
        "!sed -i 's/CUDNN=0/CUDNN=1/' Makefile\n",
        "\n",
        "# Compile\n",
        "!make"
      ]
    },
    {
      "cell_type": "code",
      "source": [
        "# Make a copy of yolov3.cfg\n",
        "!cp cfg/yolov3-tiny.cfg cfg/yolov3_training.cfg\n",
        "\n",
        "# Change lines in cfg to reference our batches\n",
        "!sed -i 's/batch=1/batch=64/' cfg/yolov3_training.cfg\n",
        "!sed -i 's/subdivisions=1/subdivisions=16/' cfg/yolov3_training.cfg\n",
        "!sed -i 's/max_batches = 500200/max_batches = 4000/' cfg/yolov3_training.cfg\n",
        "!sed -i '127 s@filters=255@filters=30@' cfg/yolov3_training.cfg\n",
        "!sed -i '171 s@filters=255@filters=30@' cfg/yolov3_training.cfg\n",
        "!sed -i '135 s@classes=80@classes=5@' cfg/yolov3_training.cfg\n",
        "!sed -i '177 s@classes=80@classes=5@' cfg/yolov3_training.cfg\n",
        "\n",
        "\n",
        "\n",
        "#create an obj file containing the classes\n",
        "!echo -e 'Tin\\nIron\\nAdamant\\nmith\\ncoal' > /content/darknet/data/obj.names\n",
        "!echo -e 'classes= 5\\ntrain  = /content/darknet/data/train.txt\\nvalid  = data/test.txt\\nnames = data/obj.names\\nbackup = /content/gdrive/MyDrive/yolov3' > /content/darknet/data/obj.data"
      ],
      "metadata": {
        "id": "JnvjJVD7U2rX"
      },
      "execution_count": null,
      "outputs": []
    },
    {
      "cell_type": "code",
      "source": [
        "!cp cfg/yolov3_training.cfg /content/gdrive/MyDrive/yolov3/yolov3_testing.cfg\n",
        "!cp data/obj.names /content/gdrive/MyDrive/yolov3/classes.txt\n",
        "!mkdir data/obj\n",
        "!unzip /mydrive/yolov3/images.zip -d data/obj\n",
        "import glob\n",
        "images_list = glob.glob(\"data/obj/images/yolov3/*.png\")\n",
        "with open(\"data/train.txt\", \"w\") as f:\n",
        "    f.write(\"\\n\".join(images_list))\n",
        "!wget https://pjreddie.com/media/files/darknet53.conv.74"
      ],
      "metadata": {
        "id": "NZ7V8NoJW7cq"
      },
      "execution_count": null,
      "outputs": []
    },
    {
      "cell_type": "code",
      "source": [
        "!./darknet detector train /content/darknet/data/obj.data /content/darknet/cfg/yolov3_training.cfg darknet53.conv.74 -dont_show >> /content/gdrive/MyDrive/yolov3/aggregate-voc-tiny7.log"
      ],
      "metadata": {
        "id": "9o6J3stYXMXz"
      },
      "execution_count": null,
      "outputs": []
    },
    {
      "cell_type": "code",
      "source": [
        "def imShow(path):\n",
        "  import cv2\n",
        "  import matplotlib.pyplot as plt\n",
        "  %matplotlib inline\n",
        "\n",
        "  image = cv2.imread(path)\n",
        "  height, width = image.shape[:2]\n",
        "  resized_image = cv2.resize(image,(3*width, 3*height), interpolation = cv2.INTER_CUBIC)\n",
        "\n",
        "  fig = plt.gcf()\n",
        "  fig.set_size_inches(18, 10)\n",
        "  plt.axis(\"off\")\n",
        "  plt.imshow(cv2.cvtColor(resized_image, cv2.COLOR_BGR2RGB))\n",
        "  plt.show()\n",
        "\n",
        "# use this to upload files\n",
        "def upload():\n",
        "  from google.colab import files\n",
        "  uploaded = files.upload() \n",
        "  for name, data in uploaded.items():\n",
        "    with open(name, 'wb') as f:\n",
        "      f.write(data)\n",
        "      print ('saved file', name)\n",
        "\n",
        "# use this to download a file  \n",
        "def download(path):\n",
        "  from google.colab import files\n",
        "  files.download(path)\n",
        "\n",
        "!./darknet detector test /content/darknet/data/obj.data cfg/yolov3_training.cfg /content/gdrive/MyDrive/yolov3/yolov3_training_last.weights /content/darknet/data/obj/2021-12-09 12-02-51.mkv\n",
        "\n",
        "  imShow('predictions.jpg')"
      ],
      "metadata": {
        "id": "T23b0MkrlOAX"
      },
      "execution_count": null,
      "outputs": []
    }
  ]
}